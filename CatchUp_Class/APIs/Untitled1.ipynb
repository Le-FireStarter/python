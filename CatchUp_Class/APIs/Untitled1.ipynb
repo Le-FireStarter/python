{
 "cells": [
  {
   "cell_type": "code",
   "execution_count": 1,
   "id": "5ab26f7f",
   "metadata": {},
   "outputs": [],
   "source": [
    "import requests as rq\n",
    "import pandas as pd\n",
    "import json"
   ]
  },
  {
   "cell_type": "code",
   "execution_count": 3,
   "id": "8a205976",
   "metadata": {},
   "outputs": [],
   "source": [
    "page_num = 41\n",
    "data = []\n",
    "has_next = True\n",
    "\n",
    "while has_next:\n",
    "    #print('data from page {}'.format(page_num))\n",
    "    first_leg = rq.get('https://rickandmortyapi.com/api/character?page=' + str(page_num)).json()\n",
    "    #print(first_leg['results'])\n",
    "    data.extend(first_leg['results'])\n",
    "    has_next = first_leg['info']['next']\n",
    "    page_num += 1 \n",
    "    "
   ]
  },
  {
   "cell_type": "code",
   "execution_count": null,
   "id": "cead6bfd",
   "metadata": {},
   "outputs": [],
   "source": []
  }
 ],
 "metadata": {
  "kernelspec": {
   "display_name": "Python 3 (ipykernel)",
   "language": "python",
   "name": "python3"
  },
  "language_info": {
   "codemirror_mode": {
    "name": "ipython",
    "version": 3
   },
   "file_extension": ".py",
   "mimetype": "text/x-python",
   "name": "python",
   "nbconvert_exporter": "python",
   "pygments_lexer": "ipython3",
   "version": "3.8.13"
  }
 },
 "nbformat": 4,
 "nbformat_minor": 5
}
