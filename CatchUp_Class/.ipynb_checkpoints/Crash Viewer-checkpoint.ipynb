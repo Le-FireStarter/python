{
 "cells": [
  {
   "cell_type": "code",
   "execution_count": 21,
   "id": "315bcd67-0065-49ef-86c3-4a5fb17ccfe9",
   "metadata": {},
   "outputs": [],
   "source": [
    "import requests\n",
    "import json\n",
    "import pandas as pd\n",
    "\n",
    "url = 'https://crashviewer.nhtsa.dot.gov/CrashAPI/crashes/GetCaseDetails?stateCase=10003&caseYear=2014&state=1&format=json'\n",
    "view = requests.get(url)\n",
    "#view.json().keys"
   ]
  },
  {
   "cell_type": "code",
   "execution_count": 47,
   "id": "a80ab8fc-beeb-41a9-a909-3bed9a64c076",
   "metadata": {},
   "outputs": [],
   "source": [
    "#view.json()"
   ]
  },
  {
   "cell_type": "code",
   "execution_count": 23,
   "id": "d67a6300-594b-4848-a187-670415386622",
   "metadata": {},
   "outputs": [
    {
     "data": {
      "text/plain": [
       "dict_keys(['Count', 'Message', 'Results', 'SearchCriteria'])"
      ]
     },
     "execution_count": 23,
     "metadata": {},
     "output_type": "execute_result"
    }
   ],
   "source": [
    "view.json().keys()"
   ]
  },
  {
   "cell_type": "code",
   "execution_count": 51,
   "id": "7ea8e8ac-af98-4ff3-9269-6f3296a41593",
   "metadata": {},
   "outputs": [
    {
     "data": {
      "text/html": [
       "<div>\n",
       "<style scoped>\n",
       "    .dataframe tbody tr th:only-of-type {\n",
       "        vertical-align: middle;\n",
       "    }\n",
       "\n",
       "    .dataframe tbody tr th {\n",
       "        vertical-align: top;\n",
       "    }\n",
       "\n",
       "    .dataframe thead th {\n",
       "        text-align: right;\n",
       "    }\n",
       "</style>\n",
       "<table border=\"1\" class=\"dataframe\">\n",
       "  <thead>\n",
       "    <tr style=\"text-align: right;\">\n",
       "      <th></th>\n",
       "      <th>AOI1</th>\n",
       "      <th>AOI1NAME</th>\n",
       "      <th>AOI2</th>\n",
       "      <th>AOI2NAME</th>\n",
       "      <th>CaseYear</th>\n",
       "      <th>EVENTNUM</th>\n",
       "      <th>SOE</th>\n",
       "      <th>SOENAME</th>\n",
       "      <th>STATE</th>\n",
       "      <th>STATENAME</th>\n",
       "      <th>ST_CASE</th>\n",
       "      <th>VNUMBER1</th>\n",
       "      <th>VNUMBER2</th>\n",
       "    </tr>\n",
       "  </thead>\n",
       "  <tbody>\n",
       "    <tr>\n",
       "      <th>0</th>\n",
       "      <td>12</td>\n",
       "      <td>12 Clock Point</td>\n",
       "      <td>8</td>\n",
       "      <td>8 Clock Point</td>\n",
       "      <td>2014</td>\n",
       "      <td>1</td>\n",
       "      <td>12</td>\n",
       "      <td>Motor Vehicle In-Transport</td>\n",
       "      <td>1</td>\n",
       "      <td>Alabama</td>\n",
       "      <td>10003</td>\n",
       "      <td>1</td>\n",
       "      <td>2</td>\n",
       "    </tr>\n",
       "    <tr>\n",
       "      <th>1</th>\n",
       "      <td>55</td>\n",
       "      <td>Non-Harmful Event</td>\n",
       "      <td>55</td>\n",
       "      <td>Non-Harmful Event</td>\n",
       "      <td>2014</td>\n",
       "      <td>2</td>\n",
       "      <td>63</td>\n",
       "      <td>Ran Off Roadway - Right</td>\n",
       "      <td>1</td>\n",
       "      <td>Alabama</td>\n",
       "      <td>10003</td>\n",
       "      <td>2</td>\n",
       "      <td>5555</td>\n",
       "    </tr>\n",
       "    <tr>\n",
       "      <th>2</th>\n",
       "      <td>98</td>\n",
       "      <td>Not Reported</td>\n",
       "      <td>77</td>\n",
       "      <td>Not a Motor Vehicle</td>\n",
       "      <td>2014</td>\n",
       "      <td>3</td>\n",
       "      <td>30</td>\n",
       "      <td>Utility Pole/Light Support</td>\n",
       "      <td>1</td>\n",
       "      <td>Alabama</td>\n",
       "      <td>10003</td>\n",
       "      <td>2</td>\n",
       "      <td>9999</td>\n",
       "    </tr>\n",
       "  </tbody>\n",
       "</table>\n",
       "</div>"
      ],
      "text/plain": [
       "  AOI1           AOI1NAME AOI2             AOI2NAME CaseYear EVENTNUM SOE  \\\n",
       "0   12     12 Clock Point    8        8 Clock Point     2014        1  12   \n",
       "1   55  Non-Harmful Event   55    Non-Harmful Event     2014        2  63   \n",
       "2   98       Not Reported   77  Not a Motor Vehicle     2014        3  30   \n",
       "\n",
       "                       SOENAME STATE STATENAME ST_CASE VNUMBER1 VNUMBER2  \n",
       "0  Motor Vehicle In-Transport      1   Alabama   10003        1        2  \n",
       "1      Ran Off Roadway - Right     1   Alabama   10003        2     5555  \n",
       "2   Utility Pole/Light Support     1   Alabama   10003        2     9999  "
      ]
     },
     "execution_count": 51,
     "metadata": {},
     "output_type": "execute_result"
    }
   ],
   "source": [
    "viewdata = view.json()['Results']\n",
    "viewdata = viewdata[0][0]\n",
    "#viewdata.iteritems()\n",
    "#viewdata.values()\n",
    "#viewdata.keys()\n",
    "crashresult = viewdata['CrashResultSet']['CEvents']\n",
    "HAA = pd.DataFrame(crashresult)\n",
    "HAA\n",
    "#pd.DataFrame(viewdata.values())"
   ]
  },
  {
   "cell_type": "code",
   "execution_count": 18,
   "id": "3a10d791-4037-4dc0-83d0-1bc27d226a1c",
   "metadata": {},
   "outputs": [
    {
     "data": {
      "text/html": [
       "<div>\n",
       "<style scoped>\n",
       "    .dataframe tbody tr th:only-of-type {\n",
       "        vertical-align: middle;\n",
       "    }\n",
       "\n",
       "    .dataframe tbody tr th {\n",
       "        vertical-align: top;\n",
       "    }\n",
       "\n",
       "    .dataframe thead th {\n",
       "        text-align: right;\n",
       "    }\n",
       "</style>\n",
       "<table border=\"1\" class=\"dataframe\">\n",
       "  <thead>\n",
       "    <tr style=\"text-align: right;\">\n",
       "      <th></th>\n",
       "      <th>CrashResultSet</th>\n",
       "    </tr>\n",
       "  </thead>\n",
       "  <tbody>\n",
       "    <tr>\n",
       "      <th>0</th>\n",
       "      <td>{'ARR_HOUR': '3', 'ARR_HOURNAME': '3:00am-3:59...</td>\n",
       "    </tr>\n",
       "  </tbody>\n",
       "</table>\n",
       "</div>"
      ],
      "text/plain": [
       "                                      CrashResultSet\n",
       "0  {'ARR_HOUR': '3', 'ARR_HOURNAME': '3:00am-3:59..."
      ]
     },
     "execution_count": 18,
     "metadata": {},
     "output_type": "execute_result"
    }
   ],
   "source": [
    "Dataview = pd.DataFrame(viewdata)\n",
    "Dataview.head(6)"
   ]
  },
  {
   "cell_type": "code",
   "execution_count": null,
   "id": "a6703bb8-7ddd-4096-b13a-7afcae03e286",
   "metadata": {},
   "outputs": [],
   "source": []
  }
 ],
 "metadata": {
  "kernelspec": {
   "display_name": "Python 3 (ipykernel)",
   "language": "python",
   "name": "python3"
  },
  "language_info": {
   "codemirror_mode": {
    "name": "ipython",
    "version": 3
   },
   "file_extension": ".py",
   "mimetype": "text/x-python",
   "name": "python",
   "nbconvert_exporter": "python",
   "pygments_lexer": "ipython3",
   "version": "3.8.13"
  }
 },
 "nbformat": 4,
 "nbformat_minor": 5
}
