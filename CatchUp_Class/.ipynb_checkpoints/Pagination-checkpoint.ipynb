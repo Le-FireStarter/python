{
 "cells": [
  {
   "cell_type": "code",
   "execution_count": 1,
   "id": "d6b80a53",
   "metadata": {},
   "outputs": [],
   "source": [
    "import requests as rq\n",
    "import pandas as pd\n",
    "import json"
   ]
  },
  {
   "cell_type": "code",
   "execution_count": 3,
   "id": "97f1da0f",
   "metadata": {},
   "outputs": [],
   "source": [
    "the_url = 'https://rickandmortyapi.com/api/character'\n",
    "endpoint = rq.get(the_url)"
   ]
  },
  {
   "cell_type": "code",
   "execution_count": 12,
   "id": "479346a2",
   "metadata": {},
   "outputs": [
    {
     "data": {
      "text/plain": [
       "{'info': {'count': 826,\n",
       "  'pages': 42,\n",
       "  'next': None,\n",
       "  'prev': 'https://rickandmortyapi.com/api/character?page=41'},\n",
       " 'results': [{'id': 821,\n",
       "   'name': 'Gotron',\n",
       "   'status': 'unknown',\n",
       "   'species': 'Robot',\n",
       "   'type': 'Ferret Robot',\n",
       "   'gender': 'Genderless',\n",
       "   'origin': {'name': 'Earth (Replacement Dimension)',\n",
       "    'url': 'https://rickandmortyapi.com/api/location/20'},\n",
       "   'location': {'name': 'Earth (Replacement Dimension)',\n",
       "    'url': 'https://rickandmortyapi.com/api/location/20'},\n",
       "   'image': 'https://rickandmortyapi.com/api/character/avatar/821.jpeg',\n",
       "   'episode': ['https://rickandmortyapi.com/api/episode/48'],\n",
       "   'url': 'https://rickandmortyapi.com/api/character/821',\n",
       "   'created': '2021-11-02T17:15:24.788Z'},\n",
       "  {'id': 822,\n",
       "   'name': 'Young Jerry',\n",
       "   'status': 'unknown',\n",
       "   'species': 'Human',\n",
       "   'type': '',\n",
       "   'gender': 'Male',\n",
       "   'origin': {'name': 'Earth (Unknown dimension)',\n",
       "    'url': 'https://rickandmortyapi.com/api/location/30'},\n",
       "   'location': {'name': 'Earth (Unknown dimension)',\n",
       "    'url': 'https://rickandmortyapi.com/api/location/30'},\n",
       "   'image': 'https://rickandmortyapi.com/api/character/avatar/822.jpeg',\n",
       "   'episode': ['https://rickandmortyapi.com/api/episode/51'],\n",
       "   'url': 'https://rickandmortyapi.com/api/character/822',\n",
       "   'created': '2021-11-02T17:18:31.934Z'},\n",
       "  {'id': 823,\n",
       "   'name': 'Young Beth',\n",
       "   'status': 'unknown',\n",
       "   'species': 'Human',\n",
       "   'type': '',\n",
       "   'gender': 'Female',\n",
       "   'origin': {'name': 'Earth (Unknown dimension)',\n",
       "    'url': 'https://rickandmortyapi.com/api/location/30'},\n",
       "   'location': {'name': 'Earth (Unknown dimension)',\n",
       "    'url': 'https://rickandmortyapi.com/api/location/30'},\n",
       "   'image': 'https://rickandmortyapi.com/api/character/avatar/823.jpeg',\n",
       "   'episode': ['https://rickandmortyapi.com/api/episode/51'],\n",
       "   'url': 'https://rickandmortyapi.com/api/character/823',\n",
       "   'created': '2021-11-02T17:19:00.951Z'},\n",
       "  {'id': 824,\n",
       "   'name': 'Young Beth',\n",
       "   'status': 'unknown',\n",
       "   'species': 'Human',\n",
       "   'type': '',\n",
       "   'gender': 'Female',\n",
       "   'origin': {'name': 'Earth (Unknown dimension)',\n",
       "    'url': 'https://rickandmortyapi.com/api/location/30'},\n",
       "   'location': {'name': 'Earth (Unknown dimension)',\n",
       "    'url': 'https://rickandmortyapi.com/api/location/30'},\n",
       "   'image': 'https://rickandmortyapi.com/api/character/avatar/824.jpeg',\n",
       "   'episode': ['https://rickandmortyapi.com/api/episode/51'],\n",
       "   'url': 'https://rickandmortyapi.com/api/character/824',\n",
       "   'created': '2021-11-02T17:19:47.957Z'},\n",
       "  {'id': 825,\n",
       "   'name': 'Young Jerry',\n",
       "   'status': 'unknown',\n",
       "   'species': 'Human',\n",
       "   'type': '',\n",
       "   'gender': 'Male',\n",
       "   'origin': {'name': 'Earth (Unknown dimension)',\n",
       "    'url': 'https://rickandmortyapi.com/api/location/30'},\n",
       "   'location': {'name': 'Earth (Unknown dimension)',\n",
       "    'url': 'https://rickandmortyapi.com/api/location/30'},\n",
       "   'image': 'https://rickandmortyapi.com/api/character/avatar/825.jpeg',\n",
       "   'episode': ['https://rickandmortyapi.com/api/episode/51'],\n",
       "   'url': 'https://rickandmortyapi.com/api/character/825',\n",
       "   'created': '2021-11-02T17:20:14.305Z'},\n",
       "  {'id': 826,\n",
       "   'name': 'Butter Robot',\n",
       "   'status': 'Alive',\n",
       "   'species': 'Robot',\n",
       "   'type': 'Passing Butter Robot',\n",
       "   'gender': 'Genderless',\n",
       "   'origin': {'name': 'Earth (Replacement Dimension)',\n",
       "    'url': 'https://rickandmortyapi.com/api/location/20'},\n",
       "   'location': {'name': 'Earth (Replacement Dimension)',\n",
       "    'url': 'https://rickandmortyapi.com/api/location/20'},\n",
       "   'image': 'https://rickandmortyapi.com/api/character/avatar/826.jpeg',\n",
       "   'episode': ['https://rickandmortyapi.com/api/episode/9'],\n",
       "   'url': 'https://rickandmortyapi.com/api/character/826',\n",
       "   'created': '2021-11-02T17:24:37.458Z'}]}"
      ]
     },
     "execution_count": 12,
     "metadata": {},
     "output_type": "execute_result"
    }
   ],
   "source": [
    "endpoint.json()\n",
    "#endpoint.json().keys\n",
    "#endpoint.json()['results']\n",
    "#endpoint.json()['info']['count']\n",
    "#print(type(endpoint.json()['info']))#['results']"
   ]
  },
  {
   "cell_type": "markdown",
   "id": "845af5be",
   "metadata": {},
   "source": [
    "USING PAGE NUMBERS"
   ]
  },
  {
   "cell_type": "code",
   "execution_count": 2,
   "id": "37705aeb",
   "metadata": {},
   "outputs": [
    {
     "ename": "KeyError",
     "evalue": "'results'",
     "output_type": "error",
     "traceback": [
      "\u001b[0;31m---------------------------------------------------------------------------\u001b[0m",
      "\u001b[0;31mKeyError\u001b[0m                                  Traceback (most recent call last)",
      "Input \u001b[0;32mIn [2]\u001b[0m, in \u001b[0;36m<cell line: 5>\u001b[0;34m()\u001b[0m\n\u001b[1;32m      7\u001b[0m first_leg \u001b[38;5;241m=\u001b[39m rq\u001b[38;5;241m.\u001b[39mget(\u001b[38;5;124m'\u001b[39m\u001b[38;5;124mhttps://rickandmortyapi.com/api/character?page=\u001b[39m\u001b[38;5;124m'\u001b[39m \u001b[38;5;241m+\u001b[39m \u001b[38;5;28mstr\u001b[39m(page_num))\u001b[38;5;241m.\u001b[39mjson()\n\u001b[1;32m      8\u001b[0m \u001b[38;5;66;03m#print(first_leg['results'])\u001b[39;00m\n\u001b[0;32m----> 9\u001b[0m data\u001b[38;5;241m.\u001b[39mextend(\u001b[43mfirst_leg\u001b[49m\u001b[43m[\u001b[49m\u001b[38;5;124;43m'\u001b[39;49m\u001b[38;5;124;43mresults\u001b[39;49m\u001b[38;5;124;43m'\u001b[39;49m\u001b[43m]\u001b[49m)\n\u001b[1;32m     10\u001b[0m has_next \u001b[38;5;241m=\u001b[39m first_leg[\u001b[38;5;124m'\u001b[39m\u001b[38;5;124minfo\u001b[39m\u001b[38;5;124m'\u001b[39m][\u001b[38;5;124m'\u001b[39m\u001b[38;5;124mpages\u001b[39m\u001b[38;5;124m'\u001b[39m]\n\u001b[1;32m     11\u001b[0m page_num \u001b[38;5;241m+\u001b[39m\u001b[38;5;241m=\u001b[39m \u001b[38;5;241m1\u001b[39m\n",
      "\u001b[0;31mKeyError\u001b[0m: 'results'"
     ]
    }
   ],
   "source": [
    "page_num = 41\n",
    "data = []\n",
    "has_next = True\n",
    "\n",
    "while has_next:\n",
    "    #print('data from page {}'.format(page_num))\n",
    "    first_leg = rq.get('https://rickandmortyapi.com/api/character?page=' + str(page_num)).json()\n",
    "    #print(first_leg['results'])\n",
    "    data.extend(first_leg['results'])\n",
    "    has_next = first_leg['info']['pages']\n",
    "    page_num += 1 \n",
    "    "
   ]
  },
  {
   "cell_type": "code",
   "execution_count": 26,
   "id": "c7209897",
   "metadata": {},
   "outputs": [
    {
     "data": {
      "text/plain": [
       "dict_keys(['info', 'results'])"
      ]
     },
     "execution_count": 26,
     "metadata": {},
     "output_type": "execute_result"
    }
   ],
   "source": [
    "first_leg = rq.get('https://rickandmortyapi.com/api/character?page=42').json()\n",
    "first_leg.keys()"
   ]
  },
  {
   "cell_type": "code",
   "execution_count": 15,
   "id": "62a98ea0",
   "metadata": {},
   "outputs": [
    {
     "data": {
      "text/plain": [
       "{'error': 'There is nothing here'}"
      ]
     },
     "execution_count": 15,
     "metadata": {},
     "output_type": "execute_result"
    }
   ],
   "source": [
    "first_leg#.keys()"
   ]
  },
  {
   "cell_type": "code",
   "execution_count": 36,
   "id": "5880b9b6",
   "metadata": {},
   "outputs": [
    {
     "data": {
      "text/plain": [
       "826"
      ]
     },
     "execution_count": 36,
     "metadata": {},
     "output_type": "execute_result"
    }
   ],
   "source": [
    "len(data)"
   ]
  },
  {
   "cell_type": "markdown",
   "id": "7852d8de",
   "metadata": {},
   "source": [
    "## USING TOTAL COUNT  "
   ]
  },
  {
   "cell_type": "code",
   "execution_count": 10,
   "id": "0679e60d",
   "metadata": {},
   "outputs": [],
   "source": [
    "page_num = 1\n",
    "data1 = []\n",
    "has_next = True\n",
    "\n",
    "while has_next:\n",
    "    first_leg = rq.get('https://rickandmortyapi.com/api/character?page=' + str(page_num)).json()\n",
    "    data1.extend(first_leg['results']) \n",
    "    has_next = len(data1) < first_leg['info']['count']\n",
    "    page_num += 1 \n",
    "    "
   ]
  },
  {
   "cell_type": "code",
   "execution_count": null,
   "id": "fe50aa8e",
   "metadata": {},
   "outputs": [],
   "source": [
    "len(data1)"
   ]
  },
  {
   "cell_type": "markdown",
   "id": "c3529f00",
   "metadata": {},
   "source": [
    "## Using Next"
   ]
  },
  {
   "cell_type": "code",
   "execution_count": null,
   "id": "770923c2",
   "metadata": {},
   "outputs": [],
   "source": [
    "data2 = []\n",
    "has_next = True\n",
    "\n",
    "while has_next:\n",
    "    second_leg = rq.get('https://rickandmortyapi.com/api/character?page=' + str(page_num)).json()\n",
    "    data.extend(first_leg['results']) \n",
    "    has_next = first_leg['info']['next'] not in 'None'\n",
    "    page_num += 1 "
   ]
  },
  {
   "cell_type": "code",
   "execution_count": null,
   "id": "f601e79b",
   "metadata": {},
   "outputs": [],
   "source": [
    "len(data2)"
   ]
  }
 ],
 "metadata": {
  "kernelspec": {
   "display_name": "Python 3 (ipykernel)",
   "language": "python",
   "name": "python3"
  },
  "language_info": {
   "codemirror_mode": {
    "name": "ipython",
    "version": 3
   },
   "file_extension": ".py",
   "mimetype": "text/x-python",
   "name": "python",
   "nbconvert_exporter": "python",
   "pygments_lexer": "ipython3",
   "version": "3.8.13"
  }
 },
 "nbformat": 4,
 "nbformat_minor": 5
}
