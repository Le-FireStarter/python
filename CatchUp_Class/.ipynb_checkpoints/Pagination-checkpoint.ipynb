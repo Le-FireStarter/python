{
 "cells": [
  {
   "cell_type": "code",
   "execution_count": 26,
   "id": "d6b80a53",
   "metadata": {},
   "outputs": [],
   "source": [
    "import requests as rq\n",
    "import pandas as pd\n",
    "import json"
   ]
  },
  {
   "cell_type": "code",
   "execution_count": 3,
   "id": "97f1da0f",
   "metadata": {},
   "outputs": [],
   "source": [
    "the_url = 'https://rickandmortyapi.com/api/character'\n",
    "endpoint = rq.get(the_url)"
   ]
  },
  {
   "cell_type": "code",
   "execution_count": 12,
   "id": "479346a2",
   "metadata": {},
   "outputs": [
    {
     "data": {
      "text/plain": [
       "{'info': {'count': 826,\n",
       "  'pages': 42,\n",
       "  'next': None,\n",
       "  'prev': 'https://rickandmortyapi.com/api/character?page=41'},\n",
       " 'results': [{'id': 821,\n",
       "   'name': 'Gotron',\n",
       "   'status': 'unknown',\n",
       "   'species': 'Robot',\n",
       "   'type': 'Ferret Robot',\n",
       "   'gender': 'Genderless',\n",
       "   'origin': {'name': 'Earth (Replacement Dimension)',\n",
       "    'url': 'https://rickandmortyapi.com/api/location/20'},\n",
       "   'location': {'name': 'Earth (Replacement Dimension)',\n",
       "    'url': 'https://rickandmortyapi.com/api/location/20'},\n",
       "   'image': 'https://rickandmortyapi.com/api/character/avatar/821.jpeg',\n",
       "   'episode': ['https://rickandmortyapi.com/api/episode/48'],\n",
       "   'url': 'https://rickandmortyapi.com/api/character/821',\n",
       "   'created': '2021-11-02T17:15:24.788Z'},\n",
       "  {'id': 822,\n",
       "   'name': 'Young Jerry',\n",
       "   'status': 'unknown',\n",
       "   'species': 'Human',\n",
       "   'type': '',\n",
       "   'gender': 'Male',\n",
       "   'origin': {'name': 'Earth (Unknown dimension)',\n",
       "    'url': 'https://rickandmortyapi.com/api/location/30'},\n",
       "   'location': {'name': 'Earth (Unknown dimension)',\n",
       "    'url': 'https://rickandmortyapi.com/api/location/30'},\n",
       "   'image': 'https://rickandmortyapi.com/api/character/avatar/822.jpeg',\n",
       "   'episode': ['https://rickandmortyapi.com/api/episode/51'],\n",
       "   'url': 'https://rickandmortyapi.com/api/character/822',\n",
       "   'created': '2021-11-02T17:18:31.934Z'},\n",
       "  {'id': 823,\n",
       "   'name': 'Young Beth',\n",
       "   'status': 'unknown',\n",
       "   'species': 'Human',\n",
       "   'type': '',\n",
       "   'gender': 'Female',\n",
       "   'origin': {'name': 'Earth (Unknown dimension)',\n",
       "    'url': 'https://rickandmortyapi.com/api/location/30'},\n",
       "   'location': {'name': 'Earth (Unknown dimension)',\n",
       "    'url': 'https://rickandmortyapi.com/api/location/30'},\n",
       "   'image': 'https://rickandmortyapi.com/api/character/avatar/823.jpeg',\n",
       "   'episode': ['https://rickandmortyapi.com/api/episode/51'],\n",
       "   'url': 'https://rickandmortyapi.com/api/character/823',\n",
       "   'created': '2021-11-02T17:19:00.951Z'},\n",
       "  {'id': 824,\n",
       "   'name': 'Young Beth',\n",
       "   'status': 'unknown',\n",
       "   'species': 'Human',\n",
       "   'type': '',\n",
       "   'gender': 'Female',\n",
       "   'origin': {'name': 'Earth (Unknown dimension)',\n",
       "    'url': 'https://rickandmortyapi.com/api/location/30'},\n",
       "   'location': {'name': 'Earth (Unknown dimension)',\n",
       "    'url': 'https://rickandmortyapi.com/api/location/30'},\n",
       "   'image': 'https://rickandmortyapi.com/api/character/avatar/824.jpeg',\n",
       "   'episode': ['https://rickandmortyapi.com/api/episode/51'],\n",
       "   'url': 'https://rickandmortyapi.com/api/character/824',\n",
       "   'created': '2021-11-02T17:19:47.957Z'},\n",
       "  {'id': 825,\n",
       "   'name': 'Young Jerry',\n",
       "   'status': 'unknown',\n",
       "   'species': 'Human',\n",
       "   'type': '',\n",
       "   'gender': 'Male',\n",
       "   'origin': {'name': 'Earth (Unknown dimension)',\n",
       "    'url': 'https://rickandmortyapi.com/api/location/30'},\n",
       "   'location': {'name': 'Earth (Unknown dimension)',\n",
       "    'url': 'https://rickandmortyapi.com/api/location/30'},\n",
       "   'image': 'https://rickandmortyapi.com/api/character/avatar/825.jpeg',\n",
       "   'episode': ['https://rickandmortyapi.com/api/episode/51'],\n",
       "   'url': 'https://rickandmortyapi.com/api/character/825',\n",
       "   'created': '2021-11-02T17:20:14.305Z'},\n",
       "  {'id': 826,\n",
       "   'name': 'Butter Robot',\n",
       "   'status': 'Alive',\n",
       "   'species': 'Robot',\n",
       "   'type': 'Passing Butter Robot',\n",
       "   'gender': 'Genderless',\n",
       "   'origin': {'name': 'Earth (Replacement Dimension)',\n",
       "    'url': 'https://rickandmortyapi.com/api/location/20'},\n",
       "   'location': {'name': 'Earth (Replacement Dimension)',\n",
       "    'url': 'https://rickandmortyapi.com/api/location/20'},\n",
       "   'image': 'https://rickandmortyapi.com/api/character/avatar/826.jpeg',\n",
       "   'episode': ['https://rickandmortyapi.com/api/episode/9'],\n",
       "   'url': 'https://rickandmortyapi.com/api/character/826',\n",
       "   'created': '2021-11-02T17:24:37.458Z'}]}"
      ]
     },
     "execution_count": 12,
     "metadata": {},
     "output_type": "execute_result"
    }
   ],
   "source": [
    "endpoint.json()\n",
    "#endpoint.json().keys\n",
    "#endpoint.json()['results']\n",
    "#endpoint.json()['info']['count']\n",
    "#print(type(endpoint.json()['info']))#['results']"
   ]
  },
  {
   "cell_type": "markdown",
   "id": "845af5be",
   "metadata": {},
   "source": [
    "USING PAGE NUMBERS"
   ]
  },
  {
   "cell_type": "code",
   "execution_count": 19,
   "id": "37705aeb",
   "metadata": {},
   "outputs": [],
   "source": [
    "page_num = 1\n",
    "data = []\n",
    "has_next = True\n",
    "\n",
    "while has_next:\n",
    "    #print('data from page {}'.format(page_num))\n",
    "    first_leg = rq.get('https://rickandmortyapi.com/api/character?page=' + str(page_num)).json()\n",
    "    data.extend(first_leg['results'])\n",
    "    has_next = page_num < first_leg['info']['pages']\n",
    "    page_num += 1 \n",
    "    "
   ]
  },
  {
   "cell_type": "code",
   "execution_count": 20,
   "id": "c7209897",
   "metadata": {},
   "outputs": [
    {
     "data": {
      "text/plain": [
       "826"
      ]
     },
     "execution_count": 20,
     "metadata": {},
     "output_type": "execute_result"
    }
   ],
   "source": [
    "len(data)"
   ]
  },
  {
   "cell_type": "markdown",
   "id": "7852d8de",
   "metadata": {},
   "source": [
    "## USING TOTAL COUNT  "
   ]
  },
  {
   "cell_type": "code",
   "execution_count": 21,
   "id": "0679e60d",
   "metadata": {},
   "outputs": [],
   "source": [
    "page_num = 1\n",
    "data1 = []\n",
    "has_next = True\n",
    "\n",
    "while has_next:\n",
    "    second_leg = rq.get('https://rickandmortyapi.com/api/character?page=' + str(page_num)).json()\n",
    "    data1.extend(second_leg['results']) \n",
    "    has_next = len(data1) < second_leg['info']['count']\n",
    "    page_num += 1 \n",
    "    "
   ]
  },
  {
   "cell_type": "code",
   "execution_count": 22,
   "id": "fe50aa8e",
   "metadata": {},
   "outputs": [
    {
     "data": {
      "text/plain": [
       "826"
      ]
     },
     "execution_count": 22,
     "metadata": {},
     "output_type": "execute_result"
    }
   ],
   "source": [
    "len(data1)"
   ]
  },
  {
   "cell_type": "markdown",
   "id": "c3529f00",
   "metadata": {},
   "source": [
    "## Using Next"
   ]
  },
  {
   "cell_type": "code",
   "execution_count": 23,
   "id": "770923c2",
   "metadata": {},
   "outputs": [],
   "source": [
    "page_num = 1\n",
    "data2 = []\n",
    "has_next = True\n",
    "\n",
    "while has_next:\n",
    "    third_leg = rq.get('https://rickandmortyapi.com/api/character?page=' + str(page_num)).json()\n",
    "    data2.extend(third_leg['results']) \n",
    "    has_next = third_leg['info']['next']\n",
    "    page_num += 1 "
   ]
  },
  {
   "cell_type": "code",
   "execution_count": 24,
   "id": "f601e79b",
   "metadata": {},
   "outputs": [
    {
     "data": {
      "text/plain": [
       "826"
      ]
     },
     "execution_count": 24,
     "metadata": {},
     "output_type": "execute_result"
    }
   ],
   "source": [
    "len(data2)"
   ]
  },
  {
   "cell_type": "markdown",
   "id": "05ebfe90",
   "metadata": {},
   "source": [
    "## Using Results"
   ]
  },
  {
   "cell_type": "code",
   "execution_count": 124,
   "id": "4c77e425",
   "metadata": {},
   "outputs": [],
   "source": [
    "page_num = 1\n",
    "data3 = []\n",
    "#has_next = True\n",
    "\n",
    "while True:\n",
    "    fourth_leg = rq.get('https://rickandmortyapi.com/api/character?page=' + str(page_num)).json()\n",
    "     \n",
    "    if fourth_leg['info']['next'] is None:\n",
    "        data3.extend(fourth_leg['results'])\n",
    "        break\n",
    "    \n",
    "    elif len(fourth_leg['results']) > 0:\n",
    "        data3.extend(fourth_leg['results'])\n",
    "        #print ('this is page number ' + str (page_num))\n",
    "        page_num += 1"
   ]
  },
  {
   "cell_type": "code",
   "execution_count": 125,
   "id": "fd7488e1",
   "metadata": {},
   "outputs": [
    {
     "data": {
      "text/plain": [
       "826"
      ]
     },
     "execution_count": 125,
     "metadata": {},
     "output_type": "execute_result"
    }
   ],
   "source": [
    "len(data3)"
   ]
  },
  {
   "cell_type": "code",
   "execution_count": 127,
   "id": "bac1d0dc",
   "metadata": {},
   "outputs": [],
   "source": [
    "#import sqlalchemy \n",
    "from sqlalchemy import create_engine"
   ]
  },
  {
   "cell_type": "code",
   "execution_count": null,
   "id": "0ac2f77b",
   "metadata": {},
   "outputs": [],
   "source": [
    "#Read up on ORM\n",
    "#Read up on SQL alchemy, create engine"
   ]
  }
 ],
 "metadata": {
  "kernelspec": {
   "display_name": "Python 3 (ipykernel)",
   "language": "python",
   "name": "python3"
  },
  "language_info": {
   "codemirror_mode": {
    "name": "ipython",
    "version": 3
   },
   "file_extension": ".py",
   "mimetype": "text/x-python",
   "name": "python",
   "nbconvert_exporter": "python",
   "pygments_lexer": "ipython3",
   "version": "3.8.13"
  }
 },
 "nbformat": 4,
 "nbformat_minor": 5
}
