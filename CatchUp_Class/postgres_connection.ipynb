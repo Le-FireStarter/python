{
 "cells": [
  {
   "cell_type": "code",
   "execution_count": 2,
   "id": "998a6a73",
   "metadata": {},
   "outputs": [],
   "source": [
    "import psycopg2"
   ]
  },
  {
   "cell_type": "code",
   "execution_count": 56,
   "id": "9bc14b90",
   "metadata": {},
   "outputs": [
    {
     "name": "stdout",
     "output_type": "stream",
     "text": [
      "Connected Successfully\n"
     ]
    }
   ],
   "source": [
    "#Creating the connection\n",
    "\n",
    "conn = psycopg2.connect(\n",
    "            user = 'postgres',\n",
    "            password = 'C0ff33se@son',\n",
    "            host = '127.0.0.1',\n",
    "            port = 5432,\n",
    "            database = 'TECHTEST')\n",
    "\n",
    "cur = conn.cursor() \n",
    "print('Connected Successfully')\n",
    "\n",
    "#remember to close the connection"
   ]
  },
  {
   "cell_type": "code",
   "execution_count": 50,
   "id": "47b405f3",
   "metadata": {},
   "outputs": [
    {
     "name": "stdout",
     "output_type": "stream",
     "text": [
      "ID 1 for x which is True with a value of 10\n",
      "ID 2 for y which is True with a value of 40\n",
      "ID 3 for x which is False with a value of 40\n",
      "ID 4 for y which is False with a value of 30\n",
      "ID 5 for x which is True with a value of None\n",
      "ID 8 for y which is True with a value of 50\n"
     ]
    }
   ],
   "source": [
    "##Testing data fetching from a table in the DB\n",
    "\n",
    "#opening the cursor\n",
    "cur = conn.cursor() \n",
    "\n",
    "cur.execute(\"select * from t\")\n",
    "\n",
    "rows = cur.fetchall()\n",
    "\n",
    "for r in rows:\n",
    "    print(f\"ID {r[0]} for {r[1]} which is {r[2]} with a value of {r[3]}\") \n",
    "\n",
    "#close the cursor\n",
    "cur.close()"
   ]
  },
  {
   "cell_type": "code",
   "execution_count": 55,
   "id": "21aa8b04",
   "metadata": {},
   "outputs": [
    {
     "ename": "SyntaxError",
     "evalue": "syntax error at or near \"'REF_ID'\"\nLINE 1: insert into testdata('REF_ID', FIRST_NAME, LAST_NAME, MIDDLE...\n                             ^\n",
     "output_type": "error",
     "traceback": [
      "\u001b[0;31m---------------------------------------------------------------------------\u001b[0m",
      "\u001b[0;31mSyntaxError\u001b[0m                               Traceback (most recent call last)",
      "Input \u001b[0;32mIn [55]\u001b[0m, in \u001b[0;36m<cell line: 6>\u001b[0;34m()\u001b[0m\n\u001b[1;32m      1\u001b[0m \u001b[38;5;66;03m## Testing insert data into a Table in the DB\u001b[39;00m\n\u001b[1;32m      2\u001b[0m \n\u001b[1;32m      3\u001b[0m \u001b[38;5;66;03m#opening the cursor\u001b[39;00m\n\u001b[1;32m      4\u001b[0m cur2 \u001b[38;5;241m=\u001b[39m conn\u001b[38;5;241m.\u001b[39mcursor() \n\u001b[0;32m----> 6\u001b[0m \u001b[43mcur2\u001b[49m\u001b[38;5;241;43m.\u001b[39;49m\u001b[43mexecute\u001b[49m\u001b[43m(\u001b[49m\u001b[38;5;124;43m\"\u001b[39;49m\u001b[38;5;124;43minsert into testdata(\u001b[39;49m\u001b[38;5;124;43m'\u001b[39;49m\u001b[38;5;124;43mREF_ID\u001b[39;49m\u001b[38;5;124;43m'\u001b[39;49m\u001b[38;5;124;43m, FIRST_NAME, LAST_NAME, MIDDLE_NAME) values (4, \u001b[39;49m\u001b[38;5;124;43m'\u001b[39;49m\u001b[38;5;124;43mAhmed\u001b[39;49m\u001b[38;5;124;43m'\u001b[39;49m\u001b[38;5;124;43m, \u001b[39;49m\u001b[38;5;124;43m'\u001b[39;49m\u001b[38;5;124;43mOladapo\u001b[39;49m\u001b[38;5;124;43m'\u001b[39;49m\u001b[38;5;124;43m, \u001b[39;49m\u001b[38;5;124;43m'\u001b[39;49m\u001b[38;5;124;43mSensei\u001b[39;49m\u001b[38;5;124;43m'\u001b[39;49m\u001b[38;5;124;43m)\u001b[39;49m\u001b[38;5;124;43m\"\u001b[39;49m\u001b[43m)\u001b[49m\n\u001b[1;32m      7\u001b[0m \u001b[38;5;66;03m#cur2.execute(\"insert into t(a, b, c, d) values (8, 'y', true, '50')\")\u001b[39;00m\n\u001b[1;32m      8\u001b[0m \n\u001b[1;32m      9\u001b[0m \u001b[38;5;66;03m#, (4, 'Ahmed', 'Oladapo', 'Sensei'))\u001b[39;00m\n\u001b[1;32m     11\u001b[0m cur2\u001b[38;5;241m.\u001b[39mexecute(\u001b[38;5;124m\"\u001b[39m\u001b[38;5;124mselect * from testdata\u001b[39m\u001b[38;5;124m\"\u001b[39m)\n",
      "\u001b[0;31mSyntaxError\u001b[0m: syntax error at or near \"'REF_ID'\"\nLINE 1: insert into testdata('REF_ID', FIRST_NAME, LAST_NAME, MIDDLE...\n                             ^\n"
     ]
    }
   ],
   "source": [
    "## Testing insert data into a Table in the DB\n",
    "##To further test why testdata columns are not identifiable from here.\n",
    "\n",
    "#opening the cursor\n",
    "cur2 = conn.cursor() \n",
    "\n",
    "cur2.execute(\"insert into testdata(REF_ID, FIRST_NAME, LAST_NAME, MIDDLE_NAME) values (4, 'Ahmed', 'Oladapo', 'Sensei')\")\n",
    "#cur2.execute(\"insert into t(a, b, c, d) values (8, 'y', true, '50')\")\n",
    "\n",
    "#, (4, 'Ahmed', 'Oladapo', 'Sensei'))\n",
    "\n",
    "cur2.execute(\"select * from testdata\")\n",
    "\n",
    "rowed = cur2.fetchall()\n",
    "\n",
    "for r in rowed:\n",
    "    print(f\"ID {r[0]} for {r[1]} which is {r[2]} with a value of {r[3]}\") \n",
    "\n",
    "    #print(f\"ID {r[0]} for the person {r[1]} {r[2]} {r[3]}\")\n",
    "\n",
    "#close the cursor\n",
    "cur2.close()\n"
   ]
  },
  {
   "cell_type": "code",
   "execution_count": 57,
   "id": "bff64128",
   "metadata": {},
   "outputs": [
    {
     "name": "stdout",
     "output_type": "stream",
     "text": [
      "ID 1 for x which is True with a value of 10\n",
      "ID 2 for y which is True with a value of 40\n",
      "ID 3 for x which is False with a value of 40\n",
      "ID 4 for y which is False with a value of 30\n",
      "ID 5 for x which is True with a value of None\n",
      "ID 6 for y which is True with a value of 20\n"
     ]
    }
   ],
   "source": [
    "##Commiting the change to the DB with conn.commit()\n",
    "\n",
    "#opening the cursor\n",
    "cur = conn.cursor() \n",
    "\n",
    "cur.execute(\"insert into t(a, b, c, d) values (6, 'y', true, '20')\")\n",
    "\n",
    "cur.execute(\"select * from t\")\n",
    "\n",
    "rows = cur.fetchall()\n",
    "\n",
    "for r in rows:\n",
    "    print(f\"ID {r[0]} for {r[1]} which is {r[2]} with a value of {r[3]}\") \n",
    "\n",
    "conn.commit()\n",
    "\n",
    "#close the cursor\n",
    "cur.close()"
   ]
  },
  {
   "cell_type": "code",
   "execution_count": null,
   "id": "652fd93a",
   "metadata": {},
   "outputs": [],
   "source": [
    "cur.close()\n",
    "conn.close()"
   ]
  }
 ],
 "metadata": {
  "kernelspec": {
   "display_name": "Python 3 (ipykernel)",
   "language": "python",
   "name": "python3"
  },
  "language_info": {
   "codemirror_mode": {
    "name": "ipython",
    "version": 3
   },
   "file_extension": ".py",
   "mimetype": "text/x-python",
   "name": "python",
   "nbconvert_exporter": "python",
   "pygments_lexer": "ipython3",
   "version": "3.8.13"
  }
 },
 "nbformat": 4,
 "nbformat_minor": 5
}
