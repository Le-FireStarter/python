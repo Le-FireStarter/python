{
 "cells": [
  {
   "cell_type": "code",
   "execution_count": 6,
   "id": "d278d45d-c37e-4aa0-a246-755bf3027786",
   "metadata": {},
   "outputs": [
    {
     "data": {
      "text/plain": [
       "{'meta': {'status': 200,\n",
       "  'messages': [],\n",
       "  'pagination': {'count': 20,\n",
       "   'max': 20,\n",
       "   'offset': 0,\n",
       "   'sort': 'id',\n",
       "   'order': None,\n",
       "   'total': 2543,\n",
       "   'currentUrl': 'https://api.nhtsa.gov/vehicles/makes?offset=0&max=20&sort=id',\n",
       "   'nextUrl': 'https://api.nhtsa.gov/vehicles/makes?offset=20&max=20&sort=id',\n",
       "   'previousUrl': None},\n",
       "  'filters': None,\n",
       "  'decoder': []},\n",
       " 'results': [{'make': '.'},\n",
       "  {'make': '3 TON UTILITY'},\n",
       "  {'make': '4 GUYS'},\n",
       "  {'make': '4 TON UTILITY'},\n",
       "  {'make': '4-STAR'},\n",
       "  {'make': '4-STAR TRAILER'},\n",
       "  {'make': '4-STAR TRAILERS'},\n",
       "  {'make': '5STARR'},\n",
       "  {'make': '6504510106'},\n",
       "  {'make': 'A&J VANS'},\n",
       "  {'make': 'A. GIRARDIN INC.'},\n",
       "  {'make': 'A.C.E.'},\n",
       "  {'make': 'AASV'},\n",
       "  {'make': 'ABC'},\n",
       "  {'make': 'ABI'},\n",
       "  {'make': 'ABS/TRAK'},\n",
       "  {'make': 'ABU'},\n",
       "  {'make': 'AC'},\n",
       "  {'make': 'ACCUBUILT'},\n",
       "  {'make': 'ACCURATE'}]}"
      ]
     },
     "execution_count": 6,
     "metadata": {},
     "output_type": "execute_result"
    }
   ],
   "source": [
    "import requests\n",
    "import json\n",
    "import pandas as pd\n",
    "\n",
    "\n",
    "url = 'https://api.nhtsa.gov/products/vehicle/makes?modelYear=2021&issueType=r'\n",
    "#url = 'https://api.nhtsa.gov/products/vehicle/makes'\n",
    "car = requests.get(url)\n",
    "car.json()"
   ]
  },
  {
   "cell_type": "code",
   "execution_count": 7,
   "id": "b42d89c6-53d9-4ed1-8530-f90d47d12d11",
   "metadata": {},
   "outputs": [
    {
     "data": {
      "text/plain": [
       "[{'make': '.'},\n",
       " {'make': '3 TON UTILITY'},\n",
       " {'make': '4 GUYS'},\n",
       " {'make': '4 TON UTILITY'},\n",
       " {'make': '4-STAR'},\n",
       " {'make': '4-STAR TRAILER'},\n",
       " {'make': '4-STAR TRAILERS'},\n",
       " {'make': '5STARR'},\n",
       " {'make': '6504510106'},\n",
       " {'make': 'A&J VANS'},\n",
       " {'make': 'A. GIRARDIN INC.'},\n",
       " {'make': 'A.C.E.'},\n",
       " {'make': 'AASV'},\n",
       " {'make': 'ABC'},\n",
       " {'make': 'ABI'},\n",
       " {'make': 'ABS/TRAK'},\n",
       " {'make': 'ABU'},\n",
       " {'make': 'AC'},\n",
       " {'make': 'ACCUBUILT'},\n",
       " {'make': 'ACCURATE'}]"
      ]
     },
     "execution_count": 7,
     "metadata": {},
     "output_type": "execute_result"
    }
   ],
   "source": [
    "cardata = car.json()['results']\n",
    "cardata"
   ]
  },
  {
   "cell_type": "code",
   "execution_count": 8,
   "id": "1fe3f3ea-104f-44ab-9216-74cd34797389",
   "metadata": {},
   "outputs": [
    {
     "data": {
      "text/html": [
       "<div>\n",
       "<style scoped>\n",
       "    .dataframe tbody tr th:only-of-type {\n",
       "        vertical-align: middle;\n",
       "    }\n",
       "\n",
       "    .dataframe tbody tr th {\n",
       "        vertical-align: top;\n",
       "    }\n",
       "\n",
       "    .dataframe thead th {\n",
       "        text-align: right;\n",
       "    }\n",
       "</style>\n",
       "<table border=\"1\" class=\"dataframe\">\n",
       "  <thead>\n",
       "    <tr style=\"text-align: right;\">\n",
       "      <th></th>\n",
       "      <th>make</th>\n",
       "    </tr>\n",
       "  </thead>\n",
       "  <tbody>\n",
       "    <tr>\n",
       "      <th>0</th>\n",
       "      <td>.</td>\n",
       "    </tr>\n",
       "    <tr>\n",
       "      <th>1</th>\n",
       "      <td>3 TON UTILITY</td>\n",
       "    </tr>\n",
       "    <tr>\n",
       "      <th>2</th>\n",
       "      <td>4 GUYS</td>\n",
       "    </tr>\n",
       "    <tr>\n",
       "      <th>3</th>\n",
       "      <td>4 TON UTILITY</td>\n",
       "    </tr>\n",
       "    <tr>\n",
       "      <th>4</th>\n",
       "      <td>4-STAR</td>\n",
       "    </tr>\n",
       "    <tr>\n",
       "      <th>5</th>\n",
       "      <td>4-STAR TRAILER</td>\n",
       "    </tr>\n",
       "  </tbody>\n",
       "</table>\n",
       "</div>"
      ],
      "text/plain": [
       "             make\n",
       "0               .\n",
       "1   3 TON UTILITY\n",
       "2          4 GUYS\n",
       "3   4 TON UTILITY\n",
       "4          4-STAR\n",
       "5  4-STAR TRAILER"
      ]
     },
     "execution_count": 8,
     "metadata": {},
     "output_type": "execute_result"
    }
   ],
   "source": [
    "car_set = pd.DataFrame(cardata)\n",
    "car_set.head(6)"
   ]
  },
  {
   "cell_type": "code",
   "execution_count": 9,
   "id": "4d161335-d6b8-40a5-9bb9-f76d6b423f6d",
   "metadata": {},
   "outputs": [
    {
     "name": "stdout",
     "output_type": "stream",
     "text": [
      "<class 'pandas.core.frame.DataFrame'>\n",
      "RangeIndex: 20 entries, 0 to 19\n",
      "Data columns (total 1 columns):\n",
      " #   Column  Non-Null Count  Dtype \n",
      "---  ------  --------------  ----- \n",
      " 0   make    20 non-null     object\n",
      "dtypes: object(1)\n",
      "memory usage: 288.0+ bytes\n"
     ]
    }
   ],
   "source": [
    "car_set.info()"
   ]
  },
  {
   "cell_type": "code",
   "execution_count": null,
   "id": "d1743791-240b-4335-a8e3-a328c4cac8b8",
   "metadata": {},
   "outputs": [],
   "source": []
  }
 ],
 "metadata": {
  "kernelspec": {
   "display_name": "Python 3 (ipykernel)",
   "language": "python",
   "name": "python3"
  },
  "language_info": {
   "codemirror_mode": {
    "name": "ipython",
    "version": 3
   },
   "file_extension": ".py",
   "mimetype": "text/x-python",
   "name": "python",
   "nbconvert_exporter": "python",
   "pygments_lexer": "ipython3",
   "version": "3.8.13"
  }
 },
 "nbformat": 4,
 "nbformat_minor": 5
}
