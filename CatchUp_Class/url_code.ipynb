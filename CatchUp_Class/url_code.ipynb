my_url = 'https://rickandmortyapi.com/api/'
endpoint = 'character?page=1'


page_num = 1
has_next = True
data = []
while has_next:
    print("ingesting page {}".format(page_num))
    response = requests.get('https://swapi.dev/api/people/?page=' + str(page_num)).json()
    data.extend(response['results'])
    has_next = response['next']
    page_num += 1
    