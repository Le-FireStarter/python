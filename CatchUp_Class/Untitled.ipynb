{
 "cells": [
  {
   "cell_type": "markdown",
   "id": "d341fdce",
   "metadata": {},
   "source": [
    "# Things to read up on"
   ]
  },
  {
   "cell_type": "code",
   "execution_count": null,
   "id": "9b0222a1",
   "metadata": {},
   "outputs": [],
   "source": [
    "#Read up on ORM\n",
    "#APIs with keys\n",
    "#Read up on SQL alchemy, create engine\n",
    "#best practice for pulling data from API\n",
    "#Apache Spark / PySpark\n",
    "#DB concepts - facts and dimensions\n",
    "#Data Warehousing\n",
    "#data scraping\n",
    "#Selenium? Scrapy? BeautifulSoup?"
   ]
  },
  {
   "cell_type": "markdown",
   "id": "38b75577",
   "metadata": {},
   "source": [
    "# Code format for SQL ALCHEMY"
   ]
  },
  {
   "cell_type": "code",
   "execution_count": null,
   "id": "b1b99463",
   "metadata": {},
   "outputs": [],
   "source": [
    "# IMPORT THE SQALCHEMY LIBRARY's CREATE_ENGINE METHOD\n",
    "from sqlalchemy import create_engine\n",
    "\n",
    "# DEFINE THE DATABASE CREDENTIALS\n",
    "user = 'root'\n",
    "password = 'password'\n",
    "host = '127.0.0.1'\n",
    "port = 5432\n",
    "database = 'postgres'\n",
    "\n",
    "# PYTHON FUNCTION TO CONNECT TO THE POSTGRESQL DATABASE AND\n",
    "# RETURN THE SQLACHEMY ENGINE OBJECT\n",
    "def get_connection():\n",
    "\treturn create_engine(\n",
    "\t\turl=\"postgresql://{0}:{1}@{2}:{3}/{4}\".format(\n",
    "\t\t\tuser, password, host, port, database\n",
    "\t\t)\n",
    "\t)\n",
    "\n",
    "\n",
    "if __name__ == '__main__':\n",
    "\n",
    "\ttry:\n",
    "\t\t# GET THE CONNECTION OBJECT (ENGINE) FOR THE DATABASE\n",
    "\t\tengine = get_connection()\n",
    "\t\tprint(\n",
    "\t\t\tf\"Connection to the {host} for user {user} created successfully.\")\n",
    "\texcept Exception as ex:\n",
    "\t\tprint(\"Connection could not be made due to the following error: \\n\", ex)\n",
    " \n",
    " \n",
    " ### models.py ###\n",
    "\n",
    "from sqlalchemy.ext.declarative import declarative_base\n",
    "from sqlalchemy import Column, Integer, String, Date\n",
    "\n",
    "Base = declarative_base()\n",
    "\n",
    "class Book(Base):\n",
    "    __tablename__ = 'books'\n",
    "    id = Column(Integer, primary_key=True)\n",
    "    title = Column(String)\n",
    "    author = Column(String)\n",
    "    pages = Column(Integer)\n",
    "    published = Column(Date)\n",
    "    \n",
    "    def __repr__(self):\n",
    "        return \"<Book(title='{}', author='{}', pages={}, published={})>\"\\\n",
    "                .format(self.title, self.author, self.pages, self.published)"
   ]
  }
 ],
 "metadata": {
  "kernelspec": {
   "display_name": "Python 3 (ipykernel)",
   "language": "python",
   "name": "python3"
  },
  "language_info": {
   "codemirror_mode": {
    "name": "ipython",
    "version": 3
   },
   "file_extension": ".py",
   "mimetype": "text/x-python",
   "name": "python",
   "nbconvert_exporter": "python",
   "pygments_lexer": "ipython3",
   "version": "3.8.13"
  }
 },
 "nbformat": 4,
 "nbformat_minor": 5
}
